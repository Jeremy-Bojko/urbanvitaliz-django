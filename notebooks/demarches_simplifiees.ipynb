{
 "cells": [
  {
   "cell_type": "markdown",
   "metadata": {},
   "source": [
    "# Documentation de Démarches simplifiées\n",
    "\n",
    "## Configuration\n",
    "\n",
    "`\n",
    "DS_BASE_URL = \"https://www.demarches-simplifiees.fr\"\n",
    "DS_API_BASE_URL = f\"{DS_BASE_URL}/api/public/v1\"\n",
    "\n",
    "DS_AUTOLOAD_SCHEMA = True  # Quand on ajoute une DS, ça charge le schéma dans le champ depuis leur API \n",
    "`\n",
    "\n",
    "## Ajouter une démarche\n",
    "\n",
    "Allez dans l'admin, puis ajouter une Démarche Simplifiée.\n",
    "Le nom renseigné doit être le nom trouvé dans l'url \"préremplir de DS\".\n",
    "A la création, le schéma sera chargé.\n",
    "\n",
    "Ajout \"Démarche Simplifiée\" => le nom doit matcher celle de DS et faire \"Save\" pour fetcher le schéma (AUTOLOAD_SCHEMA)\n",
    "\n",
    "\n",
    "## Pour créer un adaptateur\n",
    "\n",
    "Créer un fichier dans le dossier `adapters`\n",
    "Le numéro du fichier (ex: 80892) est le dossier number (récupéré du JSON) \n",
    "`DSFolder`\n",
    "\n",
    "\n"
   ]
  },
  {
   "cell_type": "code",
   "execution_count": null,
   "metadata": {},
   "outputs": [],
   "source": []
  }
 ],
 "metadata": {
  "kernelspec": {
   "display_name": "Python 3 (ipykernel)",
   "language": "python",
   "name": "python3"
  },
  "language_info": {
   "codemirror_mode": {
    "name": "ipython",
    "version": 3
   },
   "file_extension": ".py",
   "mimetype": "text/x-python",
   "name": "python",
   "nbconvert_exporter": "python",
   "pygments_lexer": "ipython3",
   "version": "3.12.4"
  }
 },
 "nbformat": 4,
 "nbformat_minor": 2
}
